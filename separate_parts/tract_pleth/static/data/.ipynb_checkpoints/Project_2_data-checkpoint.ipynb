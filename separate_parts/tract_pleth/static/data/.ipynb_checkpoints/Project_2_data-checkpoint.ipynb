{
 "cells": [
  {
   "cell_type": "code",
   "execution_count": 22,
   "metadata": {},
   "outputs": [],
   "source": [
    "import pandas as pd\n",
    "import os\n",
    "import json\n"
   ]
  },
  {
   "cell_type": "code",
   "execution_count": 23,
   "metadata": {},
   "outputs": [],
   "source": [
    "geodata_file = open('tractData.geojson')\n",
    "geodata_str = geodata_file.read()\n",
    "geo_data = json.loads(geodata_str)\n"
   ]
  },
  {
   "cell_type": "code",
   "execution_count": 24,
   "metadata": {},
   "outputs": [
    {
     "data": {
      "text/plain": [
       "{'STATEFP': '06',\n",
       " 'COUNTYFP': '009',\n",
       " 'TRACTCE': '000300',\n",
       " 'AFFGEOID': '1400000US06009000300',\n",
       " 'GEOID': '06009000300',\n",
       " 'NAME': '3',\n",
       " 'LSAD': 'CT',\n",
       " 'ALAND': 457009794,\n",
       " 'AWATER': 394122}"
      ]
     },
     "execution_count": 24,
     "metadata": {},
     "output_type": "execute_result"
    }
   ],
   "source": [
    "# geo_data = pd.read_json(geodata_file)\n",
    "\n",
    "# geo_data[\"features\"][10][\"properties\"][\"AFFGEOID\"]\n",
    "geo_data[\"features\"][0]['properties']"
   ]
  },
  {
   "cell_type": "code",
   "execution_count": 25,
   "metadata": {},
   "outputs": [
    {
     "data": {
      "text/html": [
       "<div>\n",
       "<style scoped>\n",
       "    .dataframe tbody tr th:only-of-type {\n",
       "        vertical-align: middle;\n",
       "    }\n",
       "\n",
       "    .dataframe tbody tr th {\n",
       "        vertical-align: top;\n",
       "    }\n",
       "\n",
       "    .dataframe thead th {\n",
       "        text-align: right;\n",
       "    }\n",
       "</style>\n",
       "<table border=\"1\" class=\"dataframe\">\n",
       "  <thead>\n",
       "    <tr style=\"text-align: right;\">\n",
       "      <th></th>\n",
       "      <th>GEO_ID</th>\n",
       "      <th>TRACT_NAME</th>\n",
       "      <th>BLACK</th>\n",
       "      <th>LATINO</th>\n",
       "      <th>LESS_NINTH</th>\n",
       "      <th>LESS_HS</th>\n",
       "    </tr>\n",
       "  </thead>\n",
       "  <tbody>\n",
       "    <tr>\n",
       "      <th>0</th>\n",
       "      <td>1400000US06067000100</td>\n",
       "      <td>Census Tract 1, Sacramento County, California</td>\n",
       "      <td>9.9</td>\n",
       "      <td>0.7</td>\n",
       "      <td>0.6</td>\n",
       "      <td>1.0</td>\n",
       "    </tr>\n",
       "    <tr>\n",
       "      <th>1</th>\n",
       "      <td>1400000US06067000200</td>\n",
       "      <td>Census Tract 2, Sacramento County, California</td>\n",
       "      <td>14.9</td>\n",
       "      <td>0.1</td>\n",
       "      <td>0.9</td>\n",
       "      <td>0.7</td>\n",
       "    </tr>\n",
       "    <tr>\n",
       "      <th>2</th>\n",
       "      <td>1400000US06067000300</td>\n",
       "      <td>Census Tract 3, Sacramento County, California</td>\n",
       "      <td>12.9</td>\n",
       "      <td>1.3</td>\n",
       "      <td>0.9</td>\n",
       "      <td>0.3</td>\n",
       "    </tr>\n",
       "    <tr>\n",
       "      <th>3</th>\n",
       "      <td>1400000US06067000400</td>\n",
       "      <td>Census Tract 4, Sacramento County, California</td>\n",
       "      <td>18.2</td>\n",
       "      <td>8.9</td>\n",
       "      <td>1.6</td>\n",
       "      <td>3.1</td>\n",
       "    </tr>\n",
       "    <tr>\n",
       "      <th>4</th>\n",
       "      <td>1400000US06067000500</td>\n",
       "      <td>Census Tract 5, Sacramento County, California</td>\n",
       "      <td>26.6</td>\n",
       "      <td>7.8</td>\n",
       "      <td>5.1</td>\n",
       "      <td>4.3</td>\n",
       "    </tr>\n",
       "  </tbody>\n",
       "</table>\n",
       "</div>"
      ],
      "text/plain": [
       "                 GEO_ID                                     TRACT_NAME  BLACK  \\\n",
       "0  1400000US06067000100  Census Tract 1, Sacramento County, California    9.9   \n",
       "1  1400000US06067000200  Census Tract 2, Sacramento County, California   14.9   \n",
       "2  1400000US06067000300  Census Tract 3, Sacramento County, California   12.9   \n",
       "3  1400000US06067000400  Census Tract 4, Sacramento County, California   18.2   \n",
       "4  1400000US06067000500  Census Tract 5, Sacramento County, California   26.6   \n",
       "\n",
       "   LATINO  LESS_NINTH  LESS_HS  \n",
       "0     0.7         0.6      1.0  \n",
       "1     0.1         0.9      0.7  \n",
       "2     1.3         0.9      0.3  \n",
       "3     8.9         1.6      3.1  \n",
       "4     7.8         5.1      4.3  "
      ]
     },
     "execution_count": 25,
     "metadata": {},
     "output_type": "execute_result"
    }
   ],
   "source": [
    "# Read in csv file with population characteristic data by Sacramento County census tract\n",
    "sac_data_file = 'sacData.csv'\n",
    "sac_data = pd.read_csv(sac_data_file).dropna()\n",
    "sac_data.columns = ['GEO_ID', 'TRACT_NAME', 'BLACK', 'LATINO', 'LESS_NINTH', 'LESS_HS'] \n",
    "len(sac_data)\n",
    "sac_data.head()"
   ]
  },
  {
   "cell_type": "code",
   "execution_count": 41,
   "metadata": {},
   "outputs": [],
   "source": [
    "# This code loops through the geo json data and csv data;\n",
    "# first checks for county code value, then adds new feature/\n",
    "# properties if don't already exist\n",
    "\n",
    "for x in range(len(geo_data[\"features\"])):\n",
    "    countyFP = geo_data[\"features\"][x][\"properties\"][\"COUNTYFP\"]\n",
    "    if(countyFP != \"115\"):\n",
    "        continue\n",
    "\n",
    "    geo_id = geo_data[\"features\"][x][\"properties\"][\"AFFGEOID\"]\n",
    "    for index, row in tract_data.iterrows():\n",
    "        geo_df = row['GEO_ID']\n",
    "        geo_NAME = row['TRACT_NAME']\n",
    "        geo_DP05_0071PE = row['BLACK']\n",
    "        geo_DP05_0038PE = row['LATINO']\n",
    "        geo_S1501_C02_008E = row['LESS_NINTH']\n",
    "        geo_S1501_C02_007E = row['LESS_HS']\n",
    "        if(geo_id == geo_df):\n",
    "            geo_data[\"features\"][x][\"properties\"][\"TRACT_NAME\"] = geo_NAME\n",
    "            geo_data[\"features\"][x][\"properties\"][\"BLACK\"] = geo_DP05_0071PE\n",
    "            geo_data[\"features\"][x][\"properties\"][\"LATINO\"] = geo_DP05_0038PE\n",
    "            geo_data[\"features\"][x][\"properties\"][\"LESS_NINTH\"] = geo_S1501_C02_008E\n",
    "            geo_data[\"features\"][x][\"properties\"][\"LESS_HS\"] = geo_S1501_C02_007E"
   ]
  },
  {
   "cell_type": "code",
   "execution_count": 42,
   "metadata": {},
   "outputs": [
    {
     "data": {
      "text/plain": [
       "{'STATEFP': '06',\n",
       " 'COUNTYFP': '009',\n",
       " 'TRACTCE': '000300',\n",
       " 'AFFGEOID': '1400000US06009000300',\n",
       " 'GEOID': '06009000300',\n",
       " 'NAME': '3',\n",
       " 'LSAD': 'CT',\n",
       " 'ALAND': 457009794,\n",
       " 'AWATER': 394122}"
      ]
     },
     "execution_count": 42,
     "metadata": {},
     "output_type": "execute_result"
    }
   ],
   "source": [
    "geo_data[\"features\"][0]['properties']"
   ]
  },
  {
   "cell_type": "code",
   "execution_count": 43,
   "metadata": {},
   "outputs": [
    {
     "data": {
      "text/plain": [
       "13341888"
      ]
     },
     "execution_count": 43,
     "metadata": {},
     "output_type": "execute_result"
    }
   ],
   "source": [
    "# dump JSON object with new properties into new JSON \n",
    "sac_dumps = json.dumps(geo_data)\n",
    "open(\"sac2.json\",\"w\").write(sac_dumps)"
   ]
  },
  {
   "cell_type": "code",
   "execution_count": 33,
   "metadata": {},
   "outputs": [
    {
     "data": {
      "text/plain": [
       "8057"
      ]
     },
     "execution_count": 33,
     "metadata": {},
     "output_type": "execute_result"
    }
   ],
   "source": [
    "## this is the full set of population data for all CA census tract;\n",
    "# not using it here; too large!\n",
    "tract_data_file = 'census_combined.csv'\n",
    "tract_data = pd.read_csv(tract_data_file).dropna()\n",
    "tract_data.columns = ['GEO_ID', 'TRACT_NAME', 'BLACK', 'LATINO', 'LESS_NINTH', 'LESS_HS'] \n",
    "len(tract_data)"
   ]
  },
  {
   "cell_type": "code",
   "execution_count": null,
   "metadata": {},
   "outputs": [],
   "source": [
    "# testing ability to access data\n",
    "# tract_data['DP05_0071PE'].max()\n",
    "# tract_data['DP05_0071PE'].min()\n",
    "\n",
    "# for index, row in tract_data.iterrows():\n",
    "#     print(row['GEO_ID'], row['DP05_0071PE'])"
   ]
  },
  {
   "cell_type": "code",
   "execution_count": null,
   "metadata": {},
   "outputs": [],
   "source": [
    "## this code is for merging JSON GEOID and CSV population data \n",
    "## and output CSV with merged data to create CSV file same length\n",
    "## as JSON data; not used\n",
    "\n",
    "# build a list of geoids to merge with csv data?\n",
    "affgeoid = []\n",
    "\n",
    "for x in range(len(geo_data[\"features\"])):\n",
    "    affgeoid.append(geo_data[\"features\"][x]['properties'][\"AFFGEOID\"])\n",
    "affgeoid\n",
    "\n",
    "affgeoid_df = pd.DataFrame(affgeoid).dropna()\n",
    "affgeoid_df.columns = ['GEO_ID']\n",
    "affgeoid_df.head()\n",
    "\n",
    "geoid_merge = pd.merge(affgeoid_df, tract_data, how='inner', on='GEO_ID')\n",
    "\n",
    "geoid_merge.columns = ['GEO_ID', 'TRACT_NAME', 'BLACK', 'LATINO', 'LESS_NINTH', 'LESS_HS']\n",
    "geoid_merge.fillna(0)\n",
    "\n",
    "geoid_merge.to_csv(\"geoid_merge\", encoding='utf-8', index=False)\n"
   ]
  },
  {
   "cell_type": "code",
   "execution_count": null,
   "metadata": {},
   "outputs": [],
   "source": []
  }
 ],
 "metadata": {
  "kernelspec": {
   "display_name": "Python 3",
   "language": "python",
   "name": "python3"
  },
  "language_info": {
   "codemirror_mode": {
    "name": "ipython",
    "version": 3
   },
   "file_extension": ".py",
   "mimetype": "text/x-python",
   "name": "python",
   "nbconvert_exporter": "python",
   "pygments_lexer": "ipython3",
   "version": "3.6.8"
  }
 },
 "nbformat": 4,
 "nbformat_minor": 2
}
